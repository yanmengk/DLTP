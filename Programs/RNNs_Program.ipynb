{
 "cells": [
  {
   "cell_type": "markdown",
   "metadata": {},
   "source": [
    "## 1、模拟基本RNN前向传播的过程"
   ]
  },
  {
   "cell_type": "markdown",
   "metadata": {},
   "source": [
    "以下代码实现了一个简单的RNN前向传播的过程，来源于《TensorFlow：实战Google深度学习框架 第2版》第8章 P213"
   ]
  },
  {
   "cell_type": "code",
   "execution_count": 2,
   "metadata": {},
   "outputs": [
    {
     "name": "stdout",
     "output_type": "stream",
     "text": [
      "before activation:  [0.6 0.5]\n",
      "state:  [0.53704957 0.46211716]\n",
      "output:  [1.56128388]\n",
      "before activation:  [1.2923401  1.39225678]\n",
      "state:  [0.85973818 0.88366641]\n",
      "output:  [2.72707101]\n"
     ]
    }
   ],
   "source": [
    "import numpy as np\n",
    "\n",
    "X=[1,2] #只有两个时间步\n",
    "\n",
    "state=[0.0,0.0]\n",
    "\n",
    "w_cell_state=np.asarray([[0.1,0.2],[0.3,0.4]]) # shape=(2,2)\n",
    "w_cell_input=np.asarray([0.5,0.6]) # shape=(1,2)\n",
    "b_cell=np.asarray([0.1,-0.1]) # shape=(1,2)\n",
    "\n",
    "w_output=np.asarray([[1.0],[2.0]]) # shape=(2,1)\n",
    "b_output=0.1\n",
    "\n",
    "# 按照时间顺序执行RNN的前向传播过程\n",
    "for i in range(len(X)):\n",
    "    before_activation=np.dot(state,w_cell_state)+ X[i]*w_cell_input + b_cell\n",
    "    state=np.tanh(before_activation) # shape=(1,2)\n",
    "    \n",
    "    # 根据当前时刻状态计算最终输出\n",
    "    final_ouput=np.dot(state,w_output)+b_output\n",
    "    \n",
    "    # 输出每个时刻的信息\n",
    "    print('before activation: ',before_activation)\n",
    "    print('state: ',state)\n",
    "    print('output: ',final_ouput)"
   ]
  },
  {
   "cell_type": "code",
   "execution_count": null,
   "metadata": {},
   "outputs": [],
   "source": []
  }
 ],
 "metadata": {
  "kernelspec": {
   "display_name": "Python 3",
   "language": "python",
   "name": "python3"
  },
  "language_info": {
   "codemirror_mode": {
    "name": "ipython",
    "version": 3
   },
   "file_extension": ".py",
   "mimetype": "text/x-python",
   "name": "python",
   "nbconvert_exporter": "python",
   "pygments_lexer": "ipython3",
   "version": "3.6.0"
  }
 },
 "nbformat": 4,
 "nbformat_minor": 2
}
