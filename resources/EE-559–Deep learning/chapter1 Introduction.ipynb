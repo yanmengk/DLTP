{
 "cells": [
  {
   "cell_type": "markdown",
   "metadata": {},
   "source": [
    "## 1.1 From neural networks to deep learning"
   ]
  },
  {
   "cell_type": "code",
   "execution_count": 1,
   "metadata": {},
   "outputs": [],
   "source": [
    "from torchvision import datasets\n",
    "import torch"
   ]
  },
  {
   "cell_type": "code",
   "execution_count": 2,
   "metadata": {},
   "outputs": [
    {
     "name": "stdout",
     "output_type": "stream",
     "text": [
      "Files already downloaded and verified\n"
     ]
    }
   ],
   "source": [
    "cifar=datasets.CIFAR10('../../data/cifar10/',train=True,download=True)"
   ]
  },
  {
   "cell_type": "code",
   "execution_count": 3,
   "metadata": {},
   "outputs": [
    {
     "data": {
      "text/plain": [
       "(50000, 32, 32, 3)"
      ]
     },
     "execution_count": 3,
     "metadata": {},
     "output_type": "execute_result"
    }
   ],
   "source": [
    "cifar.train_data.shape"
   ]
  },
  {
   "cell_type": "code",
   "execution_count": 4,
   "metadata": {},
   "outputs": [],
   "source": [
    "x = torch.from_numpy(cifar.train_data)[43].transpose(2, 0).transpose(1, 2)"
   ]
  },
  {
   "cell_type": "code",
   "execution_count": 5,
   "metadata": {},
   "outputs": [
    {
     "data": {
      "text/plain": [
       "tensor([[[ 99,  98, 100,  ..., 129, 132, 130],\n",
       "         [100, 100, 102,  ..., 122, 135, 132],\n",
       "         [104, 104, 106,  ..., 165, 149, 140],\n",
       "         ...,\n",
       "         [195, 199, 221,  ..., 209, 209, 208],\n",
       "         [197, 201, 211,  ..., 208, 210, 209],\n",
       "         [199, 197, 204,  ..., 208, 210, 209]],\n",
       "\n",
       "        [[166, 165, 167,  ..., 186, 190, 188],\n",
       "         [166, 164, 167,  ..., 152, 189, 188],\n",
       "         [169, 167, 170,  ..., 165, 189, 189],\n",
       "         ...,\n",
       "         [173, 177, 194,  ..., 191, 190, 188],\n",
       "         [173, 178, 184,  ..., 190, 191, 191],\n",
       "         [173, 172, 174,  ..., 189, 191, 190]],\n",
       "\n",
       "        [[198, 196, 199,  ..., 212, 215, 213],\n",
       "         [195, 194, 197,  ..., 169, 213, 214],\n",
       "         [197, 195, 198,  ..., 160, 205, 212],\n",
       "         ...,\n",
       "         [149, 153, 166,  ..., 169, 171, 173],\n",
       "         [149, 149, 147,  ..., 171, 173, 175],\n",
       "         [149, 144, 137,  ..., 174, 177, 175]]], dtype=torch.uint8)"
      ]
     },
     "execution_count": 5,
     "metadata": {},
     "output_type": "execute_result"
    }
   ],
   "source": [
    "x"
   ]
  },
  {
   "cell_type": "code",
   "execution_count": 6,
   "metadata": {},
   "outputs": [
    {
     "data": {
      "text/plain": [
       "torch.Size([3, 32, 32])"
      ]
     },
     "execution_count": 6,
     "metadata": {},
     "output_type": "execute_result"
    }
   ],
   "source": [
    "x.size()"
   ]
  },
  {
   "cell_type": "code",
   "execution_count": 7,
   "metadata": {},
   "outputs": [
    {
     "data": {
      "text/plain": [
       "tensor([[[ 99,  98, 100, 103, 105, 107, 108, 110],\n",
       "         [100, 100, 102, 105, 107, 109, 110, 112],\n",
       "         [104, 104, 106, 109, 111, 112, 114, 116],\n",
       "         [109, 109, 111, 113, 116, 117, 118, 120]],\n",
       "\n",
       "        [[166, 165, 167, 169, 171, 172, 173, 175],\n",
       "         [166, 164, 167, 169, 169, 171, 172, 174],\n",
       "         [169, 167, 170, 171, 171, 173, 174, 176],\n",
       "         [170, 169, 172, 173, 175, 176, 177, 178]],\n",
       "\n",
       "        [[198, 196, 199, 200, 200, 202, 203, 204],\n",
       "         [195, 194, 197, 197, 197, 199, 200, 201],\n",
       "         [197, 195, 198, 198, 198, 199, 201, 202],\n",
       "         [197, 196, 199, 198, 198, 199, 200, 201]]], dtype=torch.uint8)"
      ]
     },
     "execution_count": 7,
     "metadata": {},
     "output_type": "execute_result"
    }
   ],
   "source": [
    "x[:,:4,:8]"
   ]
  },
  {
   "cell_type": "markdown",
   "metadata": {},
   "source": [
    "## 1.4 Tensor basics and linear regression"
   ]
  },
  {
   "cell_type": "code",
   "execution_count": 8,
   "metadata": {},
   "outputs": [],
   "source": [
    "x=torch.empty(2,5)"
   ]
  },
  {
   "cell_type": "code",
   "execution_count": 9,
   "metadata": {},
   "outputs": [
    {
     "data": {
      "text/plain": [
       "tensor([[ 0.0000e+00,  8.5899e+09, -2.0898e+10, -4.6577e-10,  4.2039e-45],\n",
       "        [ 0.0000e+00,  0.0000e+00,  0.0000e+00,  0.0000e+00,  0.0000e+00]])"
      ]
     },
     "execution_count": 9,
     "metadata": {},
     "output_type": "execute_result"
    }
   ],
   "source": [
    "x"
   ]
  },
  {
   "cell_type": "code",
   "execution_count": 10,
   "metadata": {},
   "outputs": [
    {
     "data": {
      "text/plain": [
       "torch.Size([2, 5])"
      ]
     },
     "execution_count": 10,
     "metadata": {},
     "output_type": "execute_result"
    }
   ],
   "source": [
    "x.size()"
   ]
  },
  {
   "cell_type": "code",
   "execution_count": 11,
   "metadata": {},
   "outputs": [
    {
     "data": {
      "text/plain": [
       "tensor([[1.1250, 1.1250, 1.1250, 1.1250, 1.1250],\n",
       "        [1.1250, 1.1250, 1.1250, 1.1250, 1.1250]])"
      ]
     },
     "execution_count": 11,
     "metadata": {},
     "output_type": "execute_result"
    }
   ],
   "source": [
    "x.fill_(1.125)"
   ]
  },
  {
   "cell_type": "code",
   "execution_count": 12,
   "metadata": {},
   "outputs": [
    {
     "data": {
      "text/plain": [
       "tensor(1.1250)"
      ]
     },
     "execution_count": 12,
     "metadata": {},
     "output_type": "execute_result"
    }
   ],
   "source": [
    "x.mean()"
   ]
  },
  {
   "cell_type": "code",
   "execution_count": 13,
   "metadata": {},
   "outputs": [
    {
     "data": {
      "text/plain": [
       "tensor(0.)"
      ]
     },
     "execution_count": 13,
     "metadata": {},
     "output_type": "execute_result"
    }
   ],
   "source": [
    "x.std()"
   ]
  },
  {
   "cell_type": "code",
   "execution_count": 14,
   "metadata": {},
   "outputs": [
    {
     "data": {
      "text/plain": [
       "tensor(11.2500)"
      ]
     },
     "execution_count": 14,
     "metadata": {},
     "output_type": "execute_result"
    }
   ],
   "source": [
    "x.sum()"
   ]
  },
  {
   "cell_type": "code",
   "execution_count": 15,
   "metadata": {},
   "outputs": [
    {
     "data": {
      "text/plain": [
       "11.25"
      ]
     },
     "execution_count": 15,
     "metadata": {},
     "output_type": "execute_result"
    }
   ],
   "source": [
    "x.sum().item()"
   ]
  },
  {
   "cell_type": "markdown",
   "metadata": {},
   "source": [
    "In-place operations are suﬃxed with an underscore, and a 0d tensor can be converted back to a Python scalar with item().替换原有位置内容时需要加下划线后缀，另外，想要得到0d张量的值可以加item()"
   ]
  },
  {
   "cell_type": "code",
   "execution_count": 16,
   "metadata": {},
   "outputs": [],
   "source": [
    "x = torch.tensor([[11., 12., 13.], [21., 22., 23.]])"
   ]
  },
  {
   "cell_type": "code",
   "execution_count": 17,
   "metadata": {},
   "outputs": [
    {
     "data": {
      "text/plain": [
       "tensor([[11., 12., 13.],\n",
       "        [21., 22., 23.]])"
      ]
     },
     "execution_count": 17,
     "metadata": {},
     "output_type": "execute_result"
    }
   ],
   "source": [
    "x"
   ]
  },
  {
   "cell_type": "code",
   "execution_count": 18,
   "metadata": {},
   "outputs": [
    {
     "data": {
      "text/plain": [
       "tensor(23.)"
      ]
     },
     "execution_count": 18,
     "metadata": {},
     "output_type": "execute_result"
    }
   ],
   "source": [
    "x[1,2]"
   ]
  },
  {
   "cell_type": "code",
   "execution_count": 19,
   "metadata": {},
   "outputs": [],
   "source": [
    "x = torch.tensor([ 10., 20., 30.])"
   ]
  },
  {
   "cell_type": "code",
   "execution_count": 20,
   "metadata": {},
   "outputs": [],
   "source": [
    "y = torch.tensor([ 11., 21., 31.])"
   ]
  },
  {
   "cell_type": "code",
   "execution_count": 21,
   "metadata": {},
   "outputs": [
    {
     "data": {
      "text/plain": [
       "tensor([21., 41., 61.])"
      ]
     },
     "execution_count": 21,
     "metadata": {},
     "output_type": "execute_result"
    }
   ],
   "source": [
    "x+y"
   ]
  },
  {
   "cell_type": "code",
   "execution_count": 22,
   "metadata": {},
   "outputs": [
    {
     "data": {
      "text/plain": [
       "tensor([110., 420., 930.])"
      ]
     },
     "execution_count": 22,
     "metadata": {},
     "output_type": "execute_result"
    }
   ],
   "source": [
    "x*y"
   ]
  },
  {
   "cell_type": "code",
   "execution_count": 23,
   "metadata": {},
   "outputs": [
    {
     "data": {
      "text/plain": [
       "tensor([100., 400., 900.])"
      ]
     },
     "execution_count": 23,
     "metadata": {},
     "output_type": "execute_result"
    }
   ],
   "source": [
    "x**2"
   ]
  },
  {
   "cell_type": "code",
   "execution_count": 24,
   "metadata": {},
   "outputs": [],
   "source": [
    "m = torch.tensor([[ 0., 0., 3. ], \n",
    "                  [ 0., 2., 0. ], \n",
    "                  [ 1., 0., 0. ]])"
   ]
  },
  {
   "cell_type": "code",
   "execution_count": 25,
   "metadata": {},
   "outputs": [
    {
     "data": {
      "text/plain": [
       "tensor([[0., 0., 3.],\n",
       "        [0., 2., 0.],\n",
       "        [1., 0., 0.]])"
      ]
     },
     "execution_count": 25,
     "metadata": {},
     "output_type": "execute_result"
    }
   ],
   "source": [
    "m"
   ]
  },
  {
   "cell_type": "code",
   "execution_count": 26,
   "metadata": {},
   "outputs": [
    {
     "data": {
      "text/plain": [
       "tensor([90., 40., 10.])"
      ]
     },
     "execution_count": 26,
     "metadata": {},
     "output_type": "execute_result"
    }
   ],
   "source": [
    "m.mv(x)"
   ]
  },
  {
   "cell_type": "code",
   "execution_count": 27,
   "metadata": {},
   "outputs": [
    {
     "data": {
      "text/plain": [
       "tensor([90., 40., 10.])"
      ]
     },
     "execution_count": 27,
     "metadata": {},
     "output_type": "execute_result"
    }
   ],
   "source": [
    "m@x"
   ]
  },
  {
   "cell_type": "code",
   "execution_count": 28,
   "metadata": {},
   "outputs": [],
   "source": [
    "x=torch.empty(2,4).random_(10)"
   ]
  },
  {
   "cell_type": "code",
   "execution_count": 29,
   "metadata": {},
   "outputs": [
    {
     "data": {
      "text/plain": [
       "tensor([[1., 0., 7., 5.],\n",
       "        [8., 2., 1., 0.]])"
      ]
     },
     "execution_count": 29,
     "metadata": {},
     "output_type": "execute_result"
    }
   ],
   "source": [
    "x"
   ]
  },
  {
   "cell_type": "code",
   "execution_count": 30,
   "metadata": {},
   "outputs": [
    {
     "data": {
      "text/plain": [
       "tensor([1., 0., 7., 5.])"
      ]
     },
     "execution_count": 30,
     "metadata": {},
     "output_type": "execute_result"
    }
   ],
   "source": [
    "x[0]"
   ]
  },
  {
   "cell_type": "code",
   "execution_count": 31,
   "metadata": {},
   "outputs": [
    {
     "data": {
      "text/plain": [
       "tensor([1., 0., 7., 5.])"
      ]
     },
     "execution_count": 31,
     "metadata": {},
     "output_type": "execute_result"
    }
   ],
   "source": [
    "x[0,:]"
   ]
  },
  {
   "cell_type": "code",
   "execution_count": 32,
   "metadata": {},
   "outputs": [
    {
     "data": {
      "text/plain": [
       "tensor([1., 8.])"
      ]
     },
     "execution_count": 32,
     "metadata": {},
     "output_type": "execute_result"
    }
   ],
   "source": [
    "x[:,0]"
   ]
  },
  {
   "cell_type": "code",
   "execution_count": 33,
   "metadata": {},
   "outputs": [],
   "source": [
    "x[:,1:3]=-1"
   ]
  },
  {
   "cell_type": "code",
   "execution_count": 34,
   "metadata": {},
   "outputs": [
    {
     "data": {
      "text/plain": [
       "tensor([[ 1., -1., -1.,  5.],\n",
       "        [ 8., -1., -1.,  0.]])"
      ]
     },
     "execution_count": 34,
     "metadata": {},
     "output_type": "execute_result"
    }
   ],
   "source": [
    "x"
   ]
  },
  {
   "cell_type": "code",
   "execution_count": 35,
   "metadata": {},
   "outputs": [],
   "source": [
    "y = torch.empty(3).normal_()"
   ]
  },
  {
   "cell_type": "code",
   "execution_count": 36,
   "metadata": {},
   "outputs": [
    {
     "data": {
      "text/plain": [
       "tensor([ 0.2279, -0.3883, -1.1328])"
      ]
     },
     "execution_count": 36,
     "metadata": {},
     "output_type": "execute_result"
    }
   ],
   "source": [
    "y"
   ]
  },
  {
   "cell_type": "code",
   "execution_count": 37,
   "metadata": {},
   "outputs": [],
   "source": [
    "m = torch.empty(3, 3).normal_()"
   ]
  },
  {
   "cell_type": "code",
   "execution_count": 38,
   "metadata": {},
   "outputs": [
    {
     "data": {
      "text/plain": [
       "tensor([[-1.6266,  0.7976, -1.5173],\n",
       "        [ 0.0264,  0.5165,  1.6038],\n",
       "        [-0.4004, -1.1836,  0.2732]])"
      ]
     },
     "execution_count": 38,
     "metadata": {},
     "output_type": "execute_result"
    }
   ],
   "source": [
    "m"
   ]
  },
  {
   "cell_type": "code",
   "execution_count": 39,
   "metadata": {},
   "outputs": [],
   "source": [
    "q,_ = torch.gels(y,m)"
   ]
  },
  {
   "cell_type": "code",
   "execution_count": 40,
   "metadata": {},
   "outputs": [
    {
     "data": {
      "text/plain": [
       "tensor([[ 0.6058],\n",
       "        [ 0.6460],\n",
       "        [-0.4601]])"
      ]
     },
     "execution_count": 40,
     "metadata": {},
     "output_type": "execute_result"
    }
   ],
   "source": [
    "q"
   ]
  },
  {
   "cell_type": "code",
   "execution_count": 41,
   "metadata": {},
   "outputs": [
    {
     "data": {
      "text/plain": [
       "tensor([[ 0.2279],\n",
       "        [-0.3883],\n",
       "        [-1.1328]])"
      ]
     },
     "execution_count": 41,
     "metadata": {},
     "output_type": "execute_result"
    }
   ],
   "source": [
    "torch.mm(m,q)"
   ]
  },
  {
   "cell_type": "markdown",
   "metadata": {},
   "source": [
    "### Linear Regression"
   ]
  },
  {
   "cell_type": "code",
   "execution_count": 42,
   "metadata": {},
   "outputs": [],
   "source": [
    "import numpy as np"
   ]
  },
  {
   "cell_type": "code",
   "execution_count": 43,
   "metadata": {},
   "outputs": [],
   "source": [
    "data=torch.from_numpy(np.loadtxt('../../data/systolic-blood-pressure-vs-age.dat'))"
   ]
  },
  {
   "cell_type": "code",
   "execution_count": 44,
   "metadata": {},
   "outputs": [],
   "source": [
    "nb_samples = data.size(0)"
   ]
  },
  {
   "cell_type": "code",
   "execution_count": 45,
   "metadata": {},
   "outputs": [],
   "source": [
    "x, y = torch.empty(nb_samples, 2), torch.empty(nb_samples, 1) \n",
    "x[:, 0] = data[:, 0] \n",
    "x[:, 1] = 1 #对应偏置项bias\n",
    "y[:, 0] = data[:, 1] \n",
    "alpha, _ = torch.gels(y, x) \n",
    "a, b = alpha[0, 0].item(), alpha[1, 0].item()"
   ]
  },
  {
   "cell_type": "code",
   "execution_count": 46,
   "metadata": {},
   "outputs": [
    {
     "data": {
      "text/plain": [
       "torch.Size([30, 1])"
      ]
     },
     "execution_count": 46,
     "metadata": {},
     "output_type": "execute_result"
    }
   ],
   "source": [
    "alpha.size()  ## 关于得到的alpha仍有疑问？？？？？？？？？"
   ]
  },
  {
   "cell_type": "code",
   "execution_count": 47,
   "metadata": {},
   "outputs": [
    {
     "data": {
      "text/plain": [
       "0.9708701968193054"
      ]
     },
     "execution_count": 47,
     "metadata": {},
     "output_type": "execute_result"
    }
   ],
   "source": [
    "a"
   ]
  },
  {
   "cell_type": "code",
   "execution_count": 48,
   "metadata": {},
   "outputs": [
    {
     "data": {
      "text/plain": [
       "98.71473693847656"
      ]
     },
     "execution_count": 48,
     "metadata": {},
     "output_type": "execute_result"
    }
   ],
   "source": [
    "b"
   ]
  },
  {
   "cell_type": "code",
   "execution_count": 49,
   "metadata": {},
   "outputs": [],
   "source": [
    "import matplotlib.pyplot as plt"
   ]
  },
  {
   "cell_type": "code",
   "execution_count": 50,
   "metadata": {},
   "outputs": [],
   "source": [
    "x_axis_val = torch.linspace(10, 80, 61)"
   ]
  },
  {
   "cell_type": "code",
   "execution_count": 51,
   "metadata": {},
   "outputs": [
    {
     "data": {
      "image/png": "[encoded data removed]",
      "text/plain": [
       "<Figure size 432x288 with 1 Axes>"
      ]
     },
     "metadata": {
      "needs_background": "light"
     },
     "output_type": "display_data"
    }
   ],
   "source": [
    "plt.scatter(data[:,0].numpy(),data[:,1].numpy())\n",
    "\n",
    "plt.plot(x_axis_val.numpy(),(a*x_axis_val+b).numpy(),'r')\n",
    "\n",
    "plt.title(\"Linear Regression model\")\n",
    "\n",
    "plt.xlabel(\"Age\")\n",
    "plt.ylabel(\"blood pressure\")\n",
    "plt.show()"
   ]
  },
  {
   "cell_type": "markdown",
   "metadata": {},
   "source": [
    "## 1.5 High dimension tensors"
   ]
  },
  {
   "cell_type": "code",
   "execution_count": 52,
   "metadata": {},
   "outputs": [],
   "source": [
    "x = torch.zeros(1, 3)"
   ]
  },
  {
   "cell_type": "code",
   "execution_count": 53,
   "metadata": {},
   "outputs": [
    {
     "data": {
      "text/plain": [
       "tensor([[0., 0., 0.]])"
      ]
     },
     "execution_count": 53,
     "metadata": {},
     "output_type": "execute_result"
    }
   ],
   "source": [
    "x"
   ]
  },
  {
   "cell_type": "code",
   "execution_count": 54,
   "metadata": {},
   "outputs": [
    {
     "data": {
      "text/plain": [
       "(torch.float32, device(type='cpu'))"
      ]
     },
     "execution_count": 54,
     "metadata": {},
     "output_type": "execute_result"
    }
   ],
   "source": [
    "x.dtype, x.device"
   ]
  },
  {
   "cell_type": "code",
   "execution_count": 55,
   "metadata": {},
   "outputs": [],
   "source": [
    "x = x.long()"
   ]
  },
  {
   "cell_type": "code",
   "execution_count": 56,
   "metadata": {},
   "outputs": [
    {
     "data": {
      "text/plain": [
       "tensor([[0, 0, 0]])"
      ]
     },
     "execution_count": 56,
     "metadata": {},
     "output_type": "execute_result"
    }
   ],
   "source": [
    "x"
   ]
  },
  {
   "cell_type": "code",
   "execution_count": 57,
   "metadata": {},
   "outputs": [
    {
     "data": {
      "text/plain": [
       "(torch.int64, device(type='cpu'))"
      ]
     },
     "execution_count": 57,
     "metadata": {},
     "output_type": "execute_result"
    }
   ],
   "source": [
    "x.dtype, x.device"
   ]
  },
  {
   "cell_type": "code",
   "execution_count": 58,
   "metadata": {},
   "outputs": [],
   "source": [
    "x = torch.tensor([ [ 1, 3, 0 ], [ 2, 4, 6 ] ])"
   ]
  },
  {
   "cell_type": "code",
   "execution_count": 59,
   "metadata": {},
   "outputs": [
    {
     "data": {
      "text/plain": [
       "tensor([[1, 3, 0],\n",
       "        [2, 4, 6]])"
      ]
     },
     "execution_count": 59,
     "metadata": {},
     "output_type": "execute_result"
    }
   ],
   "source": [
    "x"
   ]
  },
  {
   "cell_type": "code",
   "execution_count": 60,
   "metadata": {},
   "outputs": [
    {
     "data": {
      "text/plain": [
       "tensor([[1, 2],\n",
       "        [3, 4],\n",
       "        [0, 6]])"
      ]
     },
     "execution_count": 60,
     "metadata": {},
     "output_type": "execute_result"
    }
   ],
   "source": [
    "x.t()"
   ]
  },
  {
   "cell_type": "code",
   "execution_count": 61,
   "metadata": {},
   "outputs": [
    {
     "data": {
      "text/plain": [
       "tensor([1, 3, 0, 2, 4, 6])"
      ]
     },
     "execution_count": 61,
     "metadata": {},
     "output_type": "execute_result"
    }
   ],
   "source": [
    "x.view(-1)"
   ]
  },
  {
   "cell_type": "code",
   "execution_count": 62,
   "metadata": {},
   "outputs": [
    {
     "data": {
      "text/plain": [
       "tensor([[1, 3],\n",
       "        [0, 2],\n",
       "        [4, 6]])"
      ]
     },
     "execution_count": 62,
     "metadata": {},
     "output_type": "execute_result"
    }
   ],
   "source": [
    "x.view(3,-1)"
   ]
  },
  {
   "cell_type": "code",
   "execution_count": 63,
   "metadata": {},
   "outputs": [
    {
     "data": {
      "text/plain": [
       "tensor([[3, 0],\n",
       "        [4, 6]])"
      ]
     },
     "execution_count": 63,
     "metadata": {},
     "output_type": "execute_result"
    }
   ],
   "source": [
    "x.narrow(1, 1, 2)"
   ]
  },
  {
   "cell_type": "code",
   "execution_count": 64,
   "metadata": {},
   "outputs": [
    {
     "data": {
      "text/plain": [
       "tensor([[[1, 3, 0],\n",
       "         [2, 4, 6]],\n",
       "\n",
       "        [[1, 3, 0],\n",
       "         [2, 4, 6]],\n",
       "\n",
       "        [[1, 3, 0],\n",
       "         [2, 4, 6]]])"
      ]
     },
     "execution_count": 64,
     "metadata": {},
     "output_type": "execute_result"
    }
   ],
   "source": [
    "x.view(1, 2, 3).expand(3, 2, 3)"
   ]
  },
  {
   "cell_type": "code",
   "execution_count": 65,
   "metadata": {},
   "outputs": [
    {
     "name": "stdout",
     "output_type": "stream",
     "text": [
      "torch.FloatTensor torch.Size([50000, 3, 32, 32]) 0.0 1.0\n"
     ]
    }
   ],
   "source": [
    "x = torch.from_numpy(cifar.train_data).transpose(1, 3).transpose(2, 3).float() \n",
    "x = x / 255 \n",
    "print(x.type(), x.size(), x.min().item(), x.max().item())"
   ]
  },
  {
   "cell_type": "code",
   "execution_count": 66,
   "metadata": {},
   "outputs": [],
   "source": [
    "x = x.narrow(0, 0, 48).float()"
   ]
  },
  {
   "cell_type": "code",
   "execution_count": 68,
   "metadata": {},
   "outputs": [
    {
     "data": {
      "text/plain": [
       "torch.Size([48, 3, 32, 32])"
      ]
     },
     "execution_count": 68,
     "metadata": {},
     "output_type": "execute_result"
    }
   ],
   "source": [
    "x.size()"
   ]
  },
  {
   "cell_type": "code",
   "execution_count": 69,
   "metadata": {},
   "outputs": [],
   "source": [
    "import torchvision"
   ]
  },
  {
   "cell_type": "code",
   "execution_count": 70,
   "metadata": {},
   "outputs": [],
   "source": [
    "# Saves these samples as a single image\n",
    "torchvision.utils.save_image(x, 'cifar-4x12.png', nrow = 12)"
   ]
  },
  {
   "cell_type": "code",
   "execution_count": 71,
   "metadata": {},
   "outputs": [],
   "source": [
    "# Switches the row and column indexes\n",
    "x.transpose_(2, 3)\n",
    "torchvision.utils.save_image(x, 'cifar-4x12-rotated.png', nrow = 12)"
   ]
  },
  {
   "cell_type": "code",
   "execution_count": 72,
   "metadata": {},
   "outputs": [],
   "source": [
    "# Kills the green and blue channels\n",
    "x.narrow(1, 1, 2).fill_(0) \n",
    "torchvision.utils.save_image(x, 'cifar-4x12-rotated-and-red.png', nrow = 12)"
   ]
  },
  {
   "cell_type": "markdown",
   "metadata": {},
   "source": [
    "### Broadcasting"
   ]
  },
  {
   "cell_type": "code",
   "execution_count": 73,
   "metadata": {},
   "outputs": [],
   "source": [
    "x = torch.empty(100, 4).normal_(2)"
   ]
  },
  {
   "cell_type": "code",
   "execution_count": 75,
   "metadata": {},
   "outputs": [
    {
     "data": {
      "text/plain": [
       "tensor([[ 1.5958e+00,  2.7524e+00,  1.1340e+00,  1.2731e+00],\n",
       "        [ 5.7326e-01,  1.2060e+00,  2.1322e+00,  1.3145e+00],\n",
       "        [ 3.0499e+00,  1.4494e+00,  1.5851e+00,  2.5536e+00],\n",
       "        [ 2.4011e+00,  2.4124e+00,  1.1996e+00,  1.7461e+00],\n",
       "        [ 1.8029e+00,  1.4859e+00,  3.0426e+00,  1.8921e+00],\n",
       "        [ 1.5584e+00,  2.5278e+00,  2.6250e+00,  2.7476e+00],\n",
       "        [ 1.6096e+00,  1.7482e+00,  1.0346e+00,  2.6046e+00],\n",
       "        [ 4.2126e+00,  2.0042e+00,  3.0465e+00,  3.0790e+00],\n",
       "        [ 1.3466e+00, -5.5563e-02,  1.7909e+00,  1.2956e+00],\n",
       "        [ 4.4208e+00,  2.8081e+00,  2.2109e+00,  9.0314e-02],\n",
       "        [ 1.8224e+00,  2.3072e+00,  1.5227e+00,  9.4121e-01],\n",
       "        [ 1.4449e+00,  2.3079e+00,  2.1993e+00,  2.9672e+00],\n",
       "        [ 2.3610e+00,  1.5181e+00,  2.7345e+00,  1.0338e+00],\n",
       "        [ 1.6533e+00,  3.1722e+00,  2.0301e+00,  2.3236e+00],\n",
       "        [ 1.4927e+00,  1.5535e+00,  1.8823e+00,  1.8365e+00],\n",
       "        [ 1.6430e+00,  7.7188e-01,  1.4716e+00,  1.6326e+00],\n",
       "        [ 1.2567e+00,  2.4396e+00,  7.9234e-01,  1.1798e+00],\n",
       "        [ 1.5307e+00,  3.5890e+00,  2.4953e+00,  2.4146e+00],\n",
       "        [ 6.1424e-01,  3.6148e+00,  1.5341e-01,  3.6311e+00],\n",
       "        [ 2.0835e+00,  2.5872e+00,  1.5647e+00,  4.0020e+00],\n",
       "        [ 2.6677e+00,  2.7851e+00,  1.4609e+00,  3.0194e+00],\n",
       "        [ 2.0655e+00,  2.2577e+00,  2.3746e+00,  3.1133e+00],\n",
       "        [ 2.5573e-01,  8.8756e-01,  1.0143e+00,  1.5372e+00],\n",
       "        [ 3.8989e+00,  2.5242e+00,  2.7180e+00,  8.6990e-01],\n",
       "        [ 2.0909e+00,  3.1871e+00,  3.0899e+00,  2.0297e+00],\n",
       "        [ 1.6349e+00,  2.1529e+00,  1.3647e+00,  1.2597e+00],\n",
       "        [ 2.3229e+00,  1.8685e+00,  1.6379e+00,  1.5994e+00],\n",
       "        [ 2.5012e+00,  1.0257e+00,  1.3633e+00,  4.1489e+00],\n",
       "        [ 2.5115e+00,  1.1232e+00,  2.1014e+00,  3.3628e+00],\n",
       "        [ 2.1271e+00, -2.1907e-01,  2.6483e+00,  1.2553e+00],\n",
       "        [ 1.7897e+00,  6.7254e-01,  2.2768e+00, -2.9018e-01],\n",
       "        [ 1.5205e-01,  1.2918e+00,  1.3005e+00,  2.7968e+00],\n",
       "        [ 2.0633e+00,  1.4812e+00,  2.5486e+00,  3.2737e+00],\n",
       "        [ 3.3896e+00,  1.1356e+00,  3.1407e+00,  3.3620e+00],\n",
       "        [ 2.4260e+00,  2.4770e+00,  2.5912e+00,  2.6444e+00],\n",
       "        [ 2.7607e+00,  2.8030e+00,  1.6046e+00,  1.8036e+00],\n",
       "        [ 2.3242e+00,  3.2169e+00,  3.5480e+00,  3.6773e+00],\n",
       "        [-1.5875e-01,  1.6952e+00,  3.0614e+00,  1.1608e+00],\n",
       "        [ 2.8677e+00,  2.2994e+00,  1.1735e+00,  1.5291e+00],\n",
       "        [ 4.6195e-01,  3.9058e+00,  1.4785e+00,  1.9268e+00],\n",
       "        [ 2.8565e+00,  1.6762e+00,  1.3119e+00,  2.8172e+00],\n",
       "        [ 1.6674e+00,  3.6994e-01,  2.0831e+00,  2.8424e+00],\n",
       "        [ 1.5284e+00,  2.2727e+00,  3.1604e+00, -4.4162e-01],\n",
       "        [ 2.0757e+00, -2.6783e-01,  2.7223e+00,  1.7910e+00],\n",
       "        [ 6.3631e-01,  5.5028e-01,  2.9044e+00,  1.0821e+00],\n",
       "        [ 1.8176e+00,  4.3178e+00,  3.6891e+00,  2.0094e+00],\n",
       "        [ 2.7952e+00,  4.5016e+00,  1.4280e+00,  1.4152e+00],\n",
       "        [ 8.1606e-01,  2.8205e+00,  5.1817e-01,  1.3365e+00],\n",
       "        [ 2.6222e+00,  2.1044e+00,  1.8762e+00,  2.4296e+00],\n",
       "        [ 1.2586e+00,  6.7064e-01,  3.0542e+00,  1.9760e+00],\n",
       "        [ 1.4992e+00,  1.1970e+00,  2.2687e+00,  2.8804e+00],\n",
       "        [ 2.9524e+00,  2.1727e+00,  3.5842e+00,  4.1674e+00],\n",
       "        [ 2.6143e+00,  2.1348e+00,  2.4921e+00,  2.2230e+00],\n",
       "        [ 1.4142e+00,  2.3961e+00,  9.5419e-01,  9.3618e-01],\n",
       "        [ 7.4421e-01,  2.9349e+00,  2.0512e+00,  2.1684e+00],\n",
       "        [ 2.3526e+00,  4.1312e+00,  1.1486e+00,  3.1420e-01],\n",
       "        [ 1.5330e+00,  3.4134e+00,  2.6890e+00,  2.3895e+00],\n",
       "        [ 4.3178e+00,  2.7159e+00,  1.8256e+00,  3.1851e+00],\n",
       "        [ 1.2136e-01,  1.1446e+00,  1.1097e+00,  1.2119e+00],\n",
       "        [ 3.3493e+00,  8.3092e-01,  3.6063e+00,  1.8185e+00],\n",
       "        [ 2.5771e+00,  9.5591e-01,  1.5692e+00,  1.3933e+00],\n",
       "        [ 1.4568e+00,  1.7958e+00,  1.6125e+00,  8.6126e-01],\n",
       "        [ 7.1037e-01,  2.7793e+00,  1.7597e+00,  2.2517e+00],\n",
       "        [ 1.4044e+00,  2.8196e+00,  2.6881e+00,  2.2563e+00],\n",
       "        [ 3.1410e+00,  2.1827e+00,  2.4538e+00,  2.8766e+00],\n",
       "        [ 9.6079e-01,  1.1696e+00,  1.3340e+00,  1.5167e+00],\n",
       "        [ 1.7250e+00,  1.5771e+00,  7.8263e-01,  1.2843e+00],\n",
       "        [ 6.7802e-01,  9.0388e-01,  2.2982e+00,  8.2690e-01],\n",
       "        [ 2.1634e+00,  2.0215e+00,  9.9340e-01,  1.1349e+00],\n",
       "        [ 2.3014e+00,  2.6035e+00,  2.2355e+00,  1.6991e+00],\n",
       "        [ 2.1847e+00,  2.1962e+00,  1.2946e+00, -1.0386e-01],\n",
       "        [ 2.7187e+00,  2.6662e+00,  7.8417e-01,  3.1839e+00],\n",
       "        [ 4.4001e-03,  3.3671e+00,  2.3473e+00,  2.6786e+00],\n",
       "        [ 3.6703e+00,  1.1687e+00,  1.4697e+00,  2.1233e+00],\n",
       "        [ 2.6570e+00,  1.9246e+00,  1.0980e+00,  1.5780e+00],\n",
       "        [ 2.4004e+00,  6.6943e-01,  1.3670e+00,  8.7148e-01],\n",
       "        [ 1.7180e+00,  2.7257e+00,  2.1720e+00,  1.9348e+00],\n",
       "        [ 1.4334e+00,  1.9472e+00,  1.9635e+00,  1.0063e+00],\n",
       "        [ 2.8893e+00,  1.3094e+00,  2.2530e+00,  2.0905e+00],\n",
       "        [ 1.8713e+00,  1.8720e+00,  2.4549e+00,  2.4795e+00],\n",
       "        [ 2.6144e+00,  2.0315e+00,  1.1017e+00,  2.1437e+00],\n",
       "        [ 1.9548e+00,  2.2740e+00,  3.1651e+00,  2.2255e+00],\n",
       "        [ 1.3612e+00,  2.0050e+00,  1.8953e+00,  1.6270e+00],\n",
       "        [ 2.9024e+00,  1.5654e+00,  3.1493e+00,  1.3145e+00],\n",
       "        [ 6.5439e-01,  1.5942e+00,  1.5333e+00,  1.9134e+00],\n",
       "        [ 2.3035e+00,  1.1753e+00,  2.8645e+00,  3.5151e+00],\n",
       "        [ 2.2552e+00,  3.1464e+00,  1.6571e+00,  2.6190e+00],\n",
       "        [ 2.2520e+00,  1.3420e+00,  7.5467e-01,  1.9725e+00],\n",
       "        [ 2.5553e+00,  2.1203e+00,  2.0938e+00,  3.5137e+00],\n",
       "        [ 1.2673e+00,  2.5377e+00,  2.8871e+00,  2.9048e+00],\n",
       "        [ 2.3478e+00,  2.6363e+00,  1.9680e+00,  2.3430e+00],\n",
       "        [ 1.8480e+00,  2.4666e+00,  3.1046e+00,  2.6116e+00],\n",
       "        [ 1.7327e+00,  9.2885e-01,  1.1693e+00, -8.8536e-02],\n",
       "        [ 2.8608e+00,  1.9855e+00,  3.4070e+00,  1.9984e+00],\n",
       "        [-4.0406e-01,  2.8320e+00,  3.2644e-01, -1.5169e-01],\n",
       "        [ 2.6199e+00,  3.7835e+00,  1.5375e+00,  3.0942e+00],\n",
       "        [ 1.8817e+00,  1.7717e+00,  1.6716e+00,  3.4997e+00],\n",
       "        [ 2.7468e+00,  3.1097e+00,  1.9814e+00,  2.6197e+00],\n",
       "        [ 3.3630e+00,  1.9099e+00,  3.4749e+00,  1.6752e+00],\n",
       "        [ 2.1144e+00,  3.1445e+00,  1.3048e+00,  2.7832e-01]])"
      ]
     },
     "execution_count": 75,
     "metadata": {},
     "output_type": "execute_result"
    }
   ],
   "source": [
    "x"
   ]
  },
  {
   "cell_type": "code",
   "execution_count": 76,
   "metadata": {},
   "outputs": [
    {
     "data": {
      "text/plain": [
       "tensor([1.9750, 2.0588, 1.9960, 1.9876])"
      ]
     },
     "execution_count": 76,
     "metadata": {},
     "output_type": "execute_result"
    }
   ],
   "source": [
    "x.mean(0)"
   ]
  },
  {
   "cell_type": "code",
   "execution_count": 77,
   "metadata": {},
   "outputs": [],
   "source": [
    "x -= x.mean(0)"
   ]
  },
  {
   "cell_type": "code",
   "execution_count": 78,
   "metadata": {},
   "outputs": [
    {
     "data": {
      "text/plain": [
       "tensor([-2.7299e-07,  1.7285e-07, -7.1526e-08, -4.4942e-07])"
      ]
     },
     "execution_count": 78,
     "metadata": {},
     "output_type": "execute_result"
    }
   ],
   "source": [
    "x.mean(0)"
   ]
  },
  {
   "cell_type": "code",
   "execution_count": 79,
   "metadata": {},
   "outputs": [],
   "source": [
    "A = torch.tensor([[1.], [2.], [3.], [4.]])"
   ]
  },
  {
   "cell_type": "code",
   "execution_count": 80,
   "metadata": {},
   "outputs": [
    {
     "data": {
      "text/plain": [
       "tensor([[1.],\n",
       "        [2.],\n",
       "        [3.],\n",
       "        [4.]])"
      ]
     },
     "execution_count": 80,
     "metadata": {},
     "output_type": "execute_result"
    }
   ],
   "source": [
    "A"
   ]
  },
  {
   "cell_type": "code",
   "execution_count": 81,
   "metadata": {},
   "outputs": [],
   "source": [
    "B = torch.tensor([[5., -5., 5., -5., 5.]])"
   ]
  },
  {
   "cell_type": "code",
   "execution_count": 82,
   "metadata": {},
   "outputs": [
    {
     "data": {
      "text/plain": [
       "tensor([[ 5., -5.,  5., -5.,  5.]])"
      ]
     },
     "execution_count": 82,
     "metadata": {},
     "output_type": "execute_result"
    }
   ],
   "source": [
    "B"
   ]
  },
  {
   "cell_type": "code",
   "execution_count": 83,
   "metadata": {},
   "outputs": [],
   "source": [
    "C=A+B"
   ]
  },
  {
   "cell_type": "code",
   "execution_count": 84,
   "metadata": {},
   "outputs": [
    {
     "data": {
      "text/plain": [
       "tensor([[ 6., -4.,  6., -4.,  6.],\n",
       "        [ 7., -3.,  7., -3.,  7.],\n",
       "        [ 8., -2.,  8., -2.,  8.],\n",
       "        [ 9., -1.,  9., -1.,  9.]])"
      ]
     },
     "execution_count": 84,
     "metadata": {},
     "output_type": "execute_result"
    }
   ],
   "source": [
    "C"
   ]
  },
  {
   "cell_type": "markdown",
   "metadata": {},
   "source": [
    "## 1.6 Tensor internals"
   ]
  },
  {
   "cell_type": "code",
   "execution_count": 85,
   "metadata": {},
   "outputs": [],
   "source": [
    "x = torch.zeros(2, 4)"
   ]
  },
  {
   "cell_type": "code",
   "execution_count": 86,
   "metadata": {},
   "outputs": [
    {
     "data": {
      "text/plain": [
       " 0.0\n",
       " 0.0\n",
       " 0.0\n",
       " 0.0\n",
       " 0.0\n",
       " 0.0\n",
       " 0.0\n",
       " 0.0\n",
       "[torch.FloatStorage of size 8]"
      ]
     },
     "execution_count": 86,
     "metadata": {},
     "output_type": "execute_result"
    }
   ],
   "source": [
    "x.storage()"
   ]
  },
  {
   "cell_type": "code",
   "execution_count": 87,
   "metadata": {},
   "outputs": [],
   "source": [
    "q = x.storage()\n",
    "q[4] = 1.0"
   ]
  },
  {
   "cell_type": "code",
   "execution_count": 88,
   "metadata": {},
   "outputs": [
    {
     "data": {
      "text/plain": [
       "tensor([[0., 0., 0., 0.],\n",
       "        [1., 0., 0., 0.]])"
      ]
     },
     "execution_count": 88,
     "metadata": {},
     "output_type": "execute_result"
    }
   ],
   "source": [
    "x"
   ]
  },
  {
   "cell_type": "code",
   "execution_count": 89,
   "metadata": {},
   "outputs": [],
   "source": [
    "y = x.view(2, 2, 2)"
   ]
  },
  {
   "cell_type": "code",
   "execution_count": 90,
   "metadata": {},
   "outputs": [
    {
     "data": {
      "text/plain": [
       "tensor([[[0., 0.],\n",
       "         [0., 0.]],\n",
       "\n",
       "        [[1., 0.],\n",
       "         [0., 0.]]])"
      ]
     },
     "execution_count": 90,
     "metadata": {},
     "output_type": "execute_result"
    }
   ],
   "source": [
    "y"
   ]
  },
  {
   "cell_type": "code",
   "execution_count": 91,
   "metadata": {},
   "outputs": [
    {
     "data": {
      "text/plain": [
       "torch.Size([2, 2, 2])"
      ]
     },
     "execution_count": 91,
     "metadata": {},
     "output_type": "execute_result"
    }
   ],
   "source": [
    "y.size()"
   ]
  },
  {
   "cell_type": "code",
   "execution_count": 92,
   "metadata": {},
   "outputs": [],
   "source": [
    "y[1, 1, 0] = 7.0"
   ]
  },
  {
   "cell_type": "code",
   "execution_count": 93,
   "metadata": {},
   "outputs": [
    {
     "data": {
      "text/plain": [
       "tensor([[0., 0., 0., 0.],\n",
       "        [1., 0., 7., 0.]])"
      ]
     },
     "execution_count": 93,
     "metadata": {},
     "output_type": "execute_result"
    }
   ],
   "source": [
    "x"
   ]
  },
  {
   "cell_type": "code",
   "execution_count": 94,
   "metadata": {},
   "outputs": [
    {
     "data": {
      "text/plain": [
       "tensor([[[3., 3.],\n",
       "         [3., 3.]]])"
      ]
     },
     "execution_count": 94,
     "metadata": {},
     "output_type": "execute_result"
    }
   ],
   "source": [
    "y.narrow(0, 1, 1).fill_(3.0)"
   ]
  },
  {
   "cell_type": "code",
   "execution_count": 95,
   "metadata": {},
   "outputs": [
    {
     "data": {
      "text/plain": [
       "tensor([[0., 0., 0., 0.],\n",
       "        [3., 3., 3., 3.]])"
      ]
     },
     "execution_count": 95,
     "metadata": {},
     "output_type": "execute_result"
    }
   ],
   "source": [
    "x"
   ]
  },
  {
   "cell_type": "code",
   "execution_count": 98,
   "metadata": {},
   "outputs": [
    {
     "ename": "RuntimeError",
     "evalue": "Expected object of data type 6 but got data type 4 for argument #2 'source'",
     "output_type": "error",
     "traceback": [
      "\u001b[0;31m---------------------------------------------------------------------------\u001b[0m",
      "\u001b[0;31mRuntimeError\u001b[0m                              Traceback (most recent call last)",
      "\u001b[0;32m<ipython-input-98-b65c4fe76838>\u001b[0m in \u001b[0;36m<module>\u001b[0;34m\u001b[0m\n\u001b[1;32m      1\u001b[0m \u001b[0mq\u001b[0m \u001b[0;34m=\u001b[0m \u001b[0mtorch\u001b[0m\u001b[0;34m.\u001b[0m\u001b[0marange\u001b[0m\u001b[0;34m(\u001b[0m\u001b[0;36m0\u001b[0m\u001b[0;34m,\u001b[0m \u001b[0;36m20\u001b[0m\u001b[0;34m)\u001b[0m\u001b[0;34m.\u001b[0m\u001b[0mstorage\u001b[0m\u001b[0;34m(\u001b[0m\u001b[0;34m)\u001b[0m\u001b[0;34m\u001b[0m\u001b[0;34m\u001b[0m\u001b[0m\n\u001b[0;32m----> 2\u001b[0;31m \u001b[0mx\u001b[0m \u001b[0;34m=\u001b[0m \u001b[0mtorch\u001b[0m\u001b[0;34m.\u001b[0m\u001b[0mempty\u001b[0m\u001b[0;34m(\u001b[0m\u001b[0;36m0\u001b[0m\u001b[0;34m)\u001b[0m\u001b[0;34m.\u001b[0m\u001b[0mset_\u001b[0m\u001b[0;34m(\u001b[0m\u001b[0mq\u001b[0m\u001b[0;34m,\u001b[0m \u001b[0mstorage_offset\u001b[0m \u001b[0;34m=\u001b[0m \u001b[0;36m5\u001b[0m\u001b[0;34m,\u001b[0m \u001b[0msize\u001b[0m \u001b[0;34m=\u001b[0m \u001b[0;34m(\u001b[0m\u001b[0;36m3\u001b[0m\u001b[0;34m,\u001b[0m \u001b[0;36m2\u001b[0m\u001b[0;34m)\u001b[0m\u001b[0;34m,\u001b[0m \u001b[0mstride\u001b[0m \u001b[0;34m=\u001b[0m \u001b[0;34m(\u001b[0m\u001b[0;36m4\u001b[0m\u001b[0;34m,\u001b[0m \u001b[0;36m1\u001b[0m\u001b[0;34m)\u001b[0m\u001b[0;34m)\u001b[0m\u001b[0;34m\u001b[0m\u001b[0;34m\u001b[0m\u001b[0m\n\u001b[0m",
      "\u001b[0;31mRuntimeError\u001b[0m: Expected object of data type 6 but got data type 4 for argument #2 'source'"
     ]
    }
   ],
   "source": [
    "q = torch.arange(0, 20).storage()\n",
    "x = torch.empty(0).set_(q, storage_offset = 5, size = (3, 2), stride = (4, 1))"
   ]
  },
  {
   "cell_type": "code",
   "execution_count": 99,
   "metadata": {},
   "outputs": [],
   "source": [
    "n = torch.linspace(1, 4, 4)"
   ]
  },
  {
   "cell_type": "code",
   "execution_count": 100,
   "metadata": {},
   "outputs": [
    {
     "data": {
      "text/plain": [
       "tensor([1., 2., 3., 4.])"
      ]
     },
     "execution_count": 100,
     "metadata": {},
     "output_type": "execute_result"
    }
   ],
   "source": [
    "n"
   ]
  },
  {
   "cell_type": "code",
   "execution_count": 101,
   "metadata": {},
   "outputs": [
    {
     "data": {
      "text/plain": [
       "tensor([[2., 3., 4.],\n",
       "        [2., 3., 4.],\n",
       "        [2., 3., 4.]])"
      ]
     },
     "execution_count": 101,
     "metadata": {},
     "output_type": "execute_result"
    }
   ],
   "source": [
    "torch.tensor(0.).set_(n.storage(), 1, (3, 3), (0, 1))"
   ]
  },
  {
   "cell_type": "code",
   "execution_count": 103,
   "metadata": {},
   "outputs": [
    {
     "data": {
      "text/plain": [
       "tensor([[2., 2., 2., 2.],\n",
       "        [3., 3., 3., 3.]])"
      ]
     },
     "execution_count": 103,
     "metadata": {},
     "output_type": "execute_result"
    }
   ],
   "source": [
    "torch.tensor(0.).set_(n.storage(), 1, (2, 4), (1, 0))"
   ]
  },
  {
   "cell_type": "code",
   "execution_count": 104,
   "metadata": {},
   "outputs": [],
   "source": [
    "x = torch.empty(100, 100)"
   ]
  },
  {
   "cell_type": "code",
   "execution_count": 105,
   "metadata": {},
   "outputs": [
    {
     "data": {
      "text/plain": [
       "(100, 1)"
      ]
     },
     "execution_count": 105,
     "metadata": {},
     "output_type": "execute_result"
    }
   ],
   "source": [
    "x.stride()"
   ]
  },
  {
   "cell_type": "code",
   "execution_count": 106,
   "metadata": {},
   "outputs": [],
   "source": [
    "y = x.t()"
   ]
  },
  {
   "cell_type": "code",
   "execution_count": 107,
   "metadata": {},
   "outputs": [
    {
     "data": {
      "text/plain": [
       "(1, 100)"
      ]
     },
     "execution_count": 107,
     "metadata": {},
     "output_type": "execute_result"
    }
   ],
   "source": [
    "y.stride()"
   ]
  },
  {
   "cell_type": "code",
   "execution_count": 108,
   "metadata": {},
   "outputs": [
    {
     "ename": "RuntimeError",
     "evalue": "invalid argument 2: view size is not compatible with input tensor's size and stride (at least one dimension spans across two contiguous subspaces). Call .contiguous() before .view(). at /Users/administrator/nightlies/pytorch-1.0.0/wheel_build_dirs/wheel_3.6/pytorch/aten/src/TH/generic/THTensor.cpp:213",
     "output_type": "error",
     "traceback": [
      "\u001b[0;31m---------------------------------------------------------------------------\u001b[0m",
      "\u001b[0;31mRuntimeError\u001b[0m                              Traceback (most recent call last)",
      "\u001b[0;32m<ipython-input-108-3bfc94341ca4>\u001b[0m in \u001b[0;36m<module>\u001b[0;34m\u001b[0m\n\u001b[0;32m----> 1\u001b[0;31m \u001b[0my\u001b[0m\u001b[0;34m.\u001b[0m\u001b[0mview\u001b[0m\u001b[0;34m(\u001b[0m\u001b[0;34m-\u001b[0m\u001b[0;36m1\u001b[0m\u001b[0;34m)\u001b[0m\u001b[0;34m\u001b[0m\u001b[0;34m\u001b[0m\u001b[0m\n\u001b[0m",
      "\u001b[0;31mRuntimeError\u001b[0m: invalid argument 2: view size is not compatible with input tensor's size and stride (at least one dimension spans across two contiguous subspaces). Call .contiguous() before .view(). at /Users/administrator/nightlies/pytorch-1.0.0/wheel_build_dirs/wheel_3.6/pytorch/aten/src/TH/generic/THTensor.cpp:213"
     ]
    }
   ],
   "source": [
    "y.view(-1)"
   ]
  },
  {
   "cell_type": "code",
   "execution_count": null,
   "metadata": {},
   "outputs": [],
   "source": []
  }
 ],
 "metadata": {
  "kernelspec": {
   "display_name": "Python 3",
   "language": "python",
   "name": "python3"
  },
  "language_info": {
   "codemirror_mode": {
    "name": "ipython",
    "version": 3
   },
   "file_extension": ".py",
   "mimetype": "text/x-python",
   "name": "python",
   "nbconvert_exporter": "python",
   "pygments_lexer": "ipython3",
   "version": "3.6.7"
  }
 },
 "nbformat": 4,
 "nbformat_minor": 2
}
